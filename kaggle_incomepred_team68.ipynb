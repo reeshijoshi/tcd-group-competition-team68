{
 "cells": [
  {
   "cell_type": "markdown",
   "metadata": {},
   "source": [
    "Import all the relevant packages."
   ]
  },
  {
   "cell_type": "code",
   "execution_count": 1,
   "metadata": {},
   "outputs": [],
   "source": [
    "import pandas as pd\n",
    "import category_encoders as ce\n",
    "import lightgbm as lgb\n",
    "import numpy as np"
   ]
  },
  {
   "cell_type": "markdown",
   "metadata": {},
   "source": [
    "The <b>dropIrrelevantColumns</b> function drops following columns from the Datasets provided as an argument\n",
    "<ul>\n",
    "    <li>Wears Glasses</li>\n",
    "    <li>Hair Color</li>\n",
    "    <li>Instances</li>\n",
    "</ul>"
   ]
  },
  {
   "cell_type": "code",
   "execution_count": 3,
   "metadata": {},
   "outputs": [],
   "source": [
    "def dropIrrelevantColumns(data) :\n",
    "    data = data.drop('Wears Glasses', axis = 1)\n",
    "    data = data.drop('Hair Color', axis = 1)\n",
    "    data = data.drop('Instance', axis = 1)\n",
    "    return data"
   ]
  },
  {
   "cell_type": "markdown",
   "metadata": {},
   "source": [
    "<p>The <b>preprocessData</b> function is the most important function. It performs all the necessary imnputations and transformations needed to clean and preprocess the data.</p>\n",
    "The function takes 2 arguments:\n",
    "<ol>\n",
    "    <li>Training Dataset</li>\n",
    "    <li>Test Dataset</li>\n",
    "</ol>\n",
    "The function returns 3 values:\n",
    "<ol>\n",
    "    <li>Dataframe containing independent variables of training data</li>\n",
    "    <li>Dataframe containing dependent variable</li>\n",
    "    <li>Dataframe containing independent variables of test data</li>\n",
    "</ol>\n",
    "Following are the steps performed:\n",
    "<ol>\n",
    "    <li>Split the dataset into Independent and Dependent Variables</li>\n",
    "    <li>Add a new column to both datasets named <b>train</b>. Set the value as 1 for training dataset and set the value as 0 for test dataset. This variable will identify which entries belong to which dataset.</li>\n",
    "    <li>Combine the training and testing datasets. This is done because there are a few values in Test dataset, which do not belong in training dataset.</li>\n",
    "    <li>As part of preprocessing, following operations are performed.\n",
    "        <ol>\n",
    "            <li>Fill <i>NaN</i> in <b>Gender</b> as <i>unknown</i></li>\n",
    "            <li>Fill <i>NaN</i> in <b>University Degree</b> as <i>unknown</i></li>\n",
    "            <li>Fill <i>NaN</i> in <b>Profession</b> as <i>unknown</i></li>\n",
    "            <li>Fill <i>NaN</i> in <b>Country</b> as <i>unknown</i></li>\n",
    "            <li>Fill <i>NaN</i> in <b>Age</b> with the <i>median value</i></li>\n",
    "            <li>Fill <i>NaN</i> in <b>Year of Record</b> with the <i>median value</i></li>\n",
    "            <li>Fill <i>NaN</i> in <b>Body Height [cm]</b> with the <i>mean value</i></li>\n",
    "            <li>Fill <i>NaN</i> in <b>Work Experience in Current Job [years]</b> with the <i>mean value</i></li>\n",
    "            <li>Fill <i>NaN</i> in <b>Satisfation with employer</b> as <i>unknown</i></li>\n",
    "            <li>Replace <i>numeric 0</i> in <b>Housing Situation</b> with <i>'zero'</i></li>\n",
    "            <li>Split the dataset back into Training and Testing datasets</li>\n",
    "        </ol>\n",
    "</ol>"
   ]
  },
  {
   "cell_type": "code",
   "execution_count": null,
   "metadata": {},
   "outputs": [],
   "source": [
    "def preprocessData(data, data_test) :\n",
    "    X = pd.DataFrame(data.iloc[:, :-1])\n",
    "    X_test = pd.DataFrame(data_test.iloc[:, :-1])\n",
    "    Y = pd.Series(data['Total Yearly Income [EUR]'])\n",
    "    X['train'] = 1\n",
    "    X_test['train'] = 0\n",
    "    cmb = pd.concat([X, X_test])\n",
    "    del X\n",
    "    del X_test\n",
    "    cmb['Yearly Income in addition to Salary (e.g. Rental Income)'] = cmb.apply(\n",
    "            lambda row: float(row['Yearly Income in addition to Salary (e.g. Rental Income)'].split()[0]), axis=1\n",
    "            )\n",
    "    cmb['Work Experience in Current Job [years]'] = cmb['Work Experience in Current Job [years]'].replace('#NUM!', np.nan)   \n",
    "    \n",
    "    cmb['Gender'] = cmb['Gender'].fillna('unknown')\n",
    "    cmb['University Degree'] = cmb['University Degree'].fillna('unknown')\n",
    "    cmb['Profession'].fillna('unknown', inplace=True)\n",
    "    cmb['Country'].fillna('unknown', inplace=True)\n",
    "    cmb['Age'].fillna(cmb['Age'].median(), inplace=True)\n",
    "    cmb['Year of Record'].fillna(cmb['Year of Record'].median(), inplace=True)\n",
    "    cmb['Body Height [cm]'].fillna(cmb['Body Height [cm]'].mean(), inplace=True)\n",
    "    cmb['Work Experience in Current Job [years]'] = pd.to_numeric(cmb['Work Experience in Current Job [years]'])\n",
    "    cmb['Work Experience in Current Job [years]'].fillna(cmb['Work Experience in Current Job [years]'].mean(), inplace=True)\n",
    "    cmb['Satisfation with employer'].fillna('unknown', inplace=True)\n",
    "    cmb['Housing Situation'].replace(0, 'zero')\n",
    "    X = cmb[cmb['train'] == 1]\n",
    "    X_test = cmb[cmb['train'] == 0]\n",
    "    del cmb\n",
    "    X = X.drop('train', axis=1)\n",
    "    X_test = X_test.drop('train', axis=1)\n",
    "    \n",
    "    return (X, Y, X_test)\n"
   ]
  },
  {
   "cell_type": "markdown",
   "metadata": {},
   "source": [
    "Function calls to <b>dropIrrelevantColumns</b> and <b>preprocessData</b>"
   ]
  },
  {
   "cell_type": "code",
   "execution_count": null,
   "metadata": {},
   "outputs": [],
   "source": [
    "data = pd.read_csv('data.csv')\n",
    "data_test = pd.read_csv('data_test.csv')\n",
    "data = dropIrrelevantColumns(data)\n",
    "data_test = dropIrrelevantColumns(data_test)\n",
    "X , Y , X_test = preprocessData(data, data_test)"
   ]
  },
  {
   "cell_type": "markdown",
   "metadata": {},
   "source": [
    "Target encode the datasets"
   ]
  },
  {
   "cell_type": "code",
   "execution_count": null,
   "metadata": {},
   "outputs": [],
   "source": [
    "cat_Col_names = ['Gender', 'Country', 'Profession', 'University Degree', 'Housing Situation', 'Satisfation with employer', 'Hair Color']\n",
    "te = ce.TargetEncoder(verbose=2, cols = cat_Col_names)\n",
    "X = te.fit_transform(X, Y)\n",
    "X_test = te.transform(X_test)"
   ]
  },
  {
   "cell_type": "markdown",
   "metadata": {},
   "source": [
    "Define the hyperparameters for lightgbm"
   ]
  },
  {
   "cell_type": "code",
   "execution_count": null,
   "metadata": {},
   "outputs": [],
   "source": [
    "params = {\n",
    "          'max_depth' : 20,\n",
    "          'learning_rate' : 0.003,\n",
    "          \"boosting\" : \"gbdt\",\n",
    "          \"verbosity\" : 2,\n",
    "          \"num_leaves\" : 150,\n",
    "          \"n_jobs\" : 12\n",
    "         }"
   ]
  },
  {
   "cell_type": "markdown",
   "metadata": {},
   "source": [
    "Once the preprocessing is done, next step is to fit the model to the regressor. Below is the code for prediction using LightGBM with 135000 iterations."
   ]
  },
  {
   "cell_type": "code",
   "execution_count": null,
   "metadata": {},
   "outputs": [],
   "source": [
    "train_data = lgb.Dataset(X , label = Y)\n",
    "l = lgb.train(params, train_data, 135000, verbose_eval=1000)\n",
    "Y_pred = l.predict(X_test)"
   ]
  },
  {
   "cell_type": "code",
   "execution_count": null,
   "metadata": {},
   "outputs": [],
   "source": [
    "del X\n",
    "del data\n",
    "del data_test\n",
    "del Y\n",
    "del X_test\n",
    "\n",
    "Y_pred = np.array(Y_pred)\n",
    "with open(\"pred_team68.csv\", \"w\") as file:\n",
    "    for i in np.array(Y_pred) :\n",
    "        file.write(str(i) + \"\\n\")"
   ]
  }
 ],
 "metadata": {
  "kernelspec": {
   "display_name": "Python 3",
   "language": "python",
   "name": "python3"
  },
  "language_info": {
   "codemirror_mode": {
    "name": "ipython",
    "version": 3
   },
   "file_extension": ".py",
   "mimetype": "text/x-python",
   "name": "python",
   "nbconvert_exporter": "python",
   "pygments_lexer": "ipython3",
   "version": "3.7.4"
  }
 },
 "nbformat": 4,
 "nbformat_minor": 2
}
